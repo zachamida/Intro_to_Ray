{
 "cells": [
  {
   "attachments": {},
   "cell_type": "markdown",
   "metadata": {},
   "source": [
    "### Ray Data with Ray AI Runtime (AIR)\n",
    "<img src=\"https://images.ctfassets.net/xjan103pcp94/6Dus0MGXn2d7LxspFtlL2Y/a0adc3d04cd940c35518d2da8a6dd1bc/blog-ray-datasets-1.png\" width=\"100%\" loading=\"lazy\">\n",
    "\n",
    "For this tutorial we will rely `ray['air']` which can be installed using `pip install -U \"ray[air]\"`"
   ]
  },
  {
   "cell_type": "code",
   "execution_count": 1,
   "metadata": {},
   "outputs": [
    {
     "name": "stderr",
     "output_type": "stream",
     "text": [
      "/Users/zacharyhamida/Desktop/Ray_Tutorial/.ray_venv/lib/python3.9/site-packages/tqdm/auto.py:21: TqdmWarning: IProgress not found. Please update jupyter and ipywidgets. See https://ipywidgets.readthedocs.io/en/stable/user_install.html\n",
      "  from .autonotebook import tqdm as notebook_tqdm\n",
      "2023-05-19 17:02:45,940\tINFO worker.py:1616 -- Started a local Ray instance. View the dashboard at \u001b[1m\u001b[32m127.0.0.1:8267 \u001b[39m\u001b[22m\n"
     ]
    },
    {
     "data": {
      "text/html": [
       "<div>\n",
       "    <div style=\"margin-left: 50px;display: flex;flex-direction: row;align-items: center\">\n",
       "        <h3 style=\"color: var(--jp-ui-font-color0)\">Ray</h3>\n",
       "        <svg version=\"1.1\" id=\"ray\" width=\"3em\" viewBox=\"0 0 144.5 144.6\" style=\"margin-left: 3em;margin-right: 3em\">\n",
       "            <g id=\"layer-1\">\n",
       "                <path fill=\"#00a2e9\" class=\"st0\" d=\"M97.3,77.2c-3.8-1.1-6.2,0.9-8.3,5.1c-3.5,6.8-9.9,9.9-17.4,9.6S58,88.1,54.8,81.2c-1.4-3-3-4-6.3-4.1\n",
       "                    c-5.6-0.1-9.9,0.1-13.1,6.4c-3.8,7.6-13.6,10.2-21.8,7.6C5.2,88.4-0.4,80.5,0,71.7c0.1-8.4,5.7-15.8,13.8-18.2\n",
       "                    c8.4-2.6,17.5,0.7,22.3,8c1.3,1.9,1.3,5.2,3.6,5.6c3.9,0.6,8,0.2,12,0.2c1.8,0,1.9-1.6,2.4-2.8c3.5-7.8,9.7-11.8,18-11.9\n",
       "                    c8.2-0.1,14.4,3.9,17.8,11.4c1.3,2.8,2.9,3.6,5.7,3.3c1-0.1,2,0.1,3,0c2.8-0.5,6.4,1.7,8.1-2.7s-2.3-5.5-4.1-7.5\n",
       "                    c-5.1-5.7-10.9-10.8-16.1-16.3C84,38,81.9,37.1,78,38.3C66.7,42,56.2,35.7,53,24.1C50.3,14,57.3,2.8,67.7,0.5\n",
       "                    C78.4-2,89,4.7,91.5,15.3c0.1,0.3,0.1,0.5,0.2,0.8c0.7,3.4,0.7,6.9-0.8,9.8c-1.7,3.2-0.8,5,1.5,7.2c6.7,6.5,13.3,13,19.8,19.7\n",
       "                    c1.8,1.8,3,2.1,5.5,1.2c9.1-3.4,17.9-0.6,23.4,7c4.8,6.9,4.6,16.1-0.4,22.9c-5.4,7.2-14.2,9.9-23.1,6.5c-2.3-0.9-3.5-0.6-5.1,1.1\n",
       "                    c-6.7,6.9-13.6,13.7-20.5,20.4c-1.8,1.8-2.5,3.2-1.4,5.9c3.5,8.7,0.3,18.6-7.7,23.6c-7.9,5-18.2,3.8-24.8-2.9\n",
       "                    c-6.4-6.4-7.4-16.2-2.5-24.3c4.9-7.8,14.5-11,23.1-7.8c3,1.1,4.7,0.5,6.9-1.7C91.7,98.4,98,92.3,104.2,86c1.6-1.6,4.1-2.7,2.6-6.2\n",
       "                    c-1.4-3.3-3.8-2.5-6.2-2.6C99.8,77.2,98.9,77.2,97.3,77.2z M72.1,29.7c5.5,0.1,9.9-4.3,10-9.8c0-0.1,0-0.2,0-0.3\n",
       "                    C81.8,14,77,9.8,71.5,10.2c-5,0.3-9,4.2-9.3,9.2c-0.2,5.5,4,10.1,9.5,10.3C71.8,29.7,72,29.7,72.1,29.7z M72.3,62.3\n",
       "                    c-5.4-0.1-9.9,4.2-10.1,9.7c0,0.2,0,0.3,0,0.5c0.2,5.4,4.5,9.7,9.9,10c5.1,0.1,9.9-4.7,10.1-9.8c0.2-5.5-4-10-9.5-10.3\n",
       "                    C72.6,62.3,72.4,62.3,72.3,62.3z M115,72.5c0.1,5.4,4.5,9.7,9.8,9.9c5.6-0.2,10-4.8,10-10.4c-0.2-5.4-4.6-9.7-10-9.7\n",
       "                    c-5.3-0.1-9.8,4.2-9.9,9.5C115,72.1,115,72.3,115,72.5z M19.5,62.3c-5.4,0.1-9.8,4.4-10,9.8c-0.1,5.1,5.2,10.4,10.2,10.3\n",
       "                    c5.6-0.2,10-4.9,9.8-10.5c-0.1-5.4-4.5-9.7-9.9-9.6C19.6,62.3,19.5,62.3,19.5,62.3z M71.8,134.6c5.9,0.2,10.3-3.9,10.4-9.6\n",
       "                    c0.5-5.5-3.6-10.4-9.1-10.8c-5.5-0.5-10.4,3.6-10.8,9.1c0,0.5,0,0.9,0,1.4c-0.2,5.3,4,9.8,9.3,10\n",
       "                    C71.6,134.6,71.7,134.6,71.8,134.6z\"/>\n",
       "            </g>\n",
       "        </svg>\n",
       "        <table>\n",
       "            <tr>\n",
       "                <td style=\"text-align: left\"><b>Python version:</b></td>\n",
       "                <td style=\"text-align: left\"><b>3.9.6</b></td>\n",
       "            </tr>\n",
       "            <tr>\n",
       "                <td style=\"text-align: left\"><b>Ray version:</b></td>\n",
       "                <td style=\"text-align: left\"><b> 2.4.0</b></td>\n",
       "            </tr>\n",
       "            <tr>\n",
       "    <td style=\"text-align: left\"><b>Dashboard:</b></td>\n",
       "    <td style=\"text-align: left\"><b><a href=\"http://127.0.0.1:8267\" target=\"_blank\">http://127.0.0.1:8267</a></b></td>\n",
       "</tr>\n",
       "\n",
       "        </table>\n",
       "    </div>\n",
       "</div>\n"
      ],
      "text/plain": [
       "RayContext(dashboard_url='127.0.0.1:8267', python_version='3.9.6', ray_version='2.4.0', ray_commit='4479f66d4db967d3c9dd0af2572061276ba926ba', address_info={'node_ip_address': '127.0.0.1', 'raylet_ip_address': '127.0.0.1', 'redis_address': None, 'object_store_address': '/tmp/ray/session_2023-05-19_17-02-44_134250_65033/sockets/plasma_store', 'raylet_socket_name': '/tmp/ray/session_2023-05-19_17-02-44_134250_65033/sockets/raylet', 'webui_url': '127.0.0.1:8267', 'session_dir': '/tmp/ray/session_2023-05-19_17-02-44_134250_65033', 'metrics_export_port': 58923, 'gcs_address': '127.0.0.1:54946', 'address': '127.0.0.1:54946', 'dashboard_agent_listen_port': 52365, 'node_id': '14589f40623d901f7a8b66c785b48eda6e7511b20d7a24c6e7c6d959'})"
      ]
     },
     "execution_count": 1,
     "metadata": {},
     "output_type": "execute_result"
    }
   ],
   "source": [
    "import ray\n",
    "\n",
    "# verify if a cluster already exist and terminate it\n",
    "if ray.is_initialized:\n",
    "    ray.shutdown()\n",
    "\n",
    "# start a new cluster\n",
    "ray.init()"
   ]
  },
  {
   "attachments": {},
   "cell_type": "markdown",
   "metadata": {},
   "source": [
    "Load dataset"
   ]
  },
  {
   "cell_type": "code",
   "execution_count": 2,
   "metadata": {},
   "outputs": [
    {
     "name": "stderr",
     "output_type": "stream",
     "text": [
      "\u001b[2m\u001b[36m(_get_read_tasks pid=65062)\u001b[0m /Users/zacharyhamida/Desktop/Ray_Tutorial/.ray_venv/lib/python3.9/site-packages/ray/data/datasource/parquet_datasource.py:238: FutureWarning: 'ParquetDataset.pieces' attribute is deprecated as of pyarrow 5.0.0 and will be removed in a future version. Use the '.fragments' attribute instead\n",
      "\u001b[2m\u001b[36m(_get_read_tasks pid=65062)\u001b[0m   pq_ds.pieces, **prefetch_remote_args\n",
      "\u001b[2m\u001b[36m(_get_read_tasks pid=65062)\u001b[0m /Users/zacharyhamida/Desktop/Ray_Tutorial/.ray_venv/lib/python3.9/site-packages/ray/data/datasource/parquet_datasource.py:316: FutureWarning: 'ParquetDataset.pieces' attribute is deprecated as of pyarrow 5.0.0 and will be removed in a future version. Use the '.fragments' attribute instead\n",
      "\u001b[2m\u001b[36m(_get_read_tasks pid=65062)\u001b[0m   num_files = len(self._pq_ds.pieces)\n",
      "\u001b[2m\u001b[36m(_get_read_tasks pid=65062)\u001b[0m /Users/zacharyhamida/Desktop/Ray_Tutorial/.ray_venv/lib/python3.9/site-packages/ray/data/datasource/parquet_datasource.py:329: FutureWarning: 'ParquetDataset.pieces' attribute is deprecated as of pyarrow 5.0.0 and will be removed in a future version. Use the '.fragments' attribute instead\n",
      "\u001b[2m\u001b[36m(_get_read_tasks pid=65062)\u001b[0m   self._pq_ds.pieces[idx]\n",
      "(pid=65062) Parquet Files Sample 0:   0%|          | 0/1 [00:00<?, ?it/s]2023-05-19 17:03:09,634\tWARNING read_api.py:358 -- ⚠️  The number of blocks in this dataset (1) limits its parallelism to 1 concurrent tasks. This is much less than the number of available CPU slots in the cluster. Use `.repartition(n)` to increase the number of dataset blocks.\n",
      "\u001b[2m\u001b[36m(_get_read_tasks pid=65062)\u001b[0m /Users/zacharyhamida/Desktop/Ray_Tutorial/.ray_venv/lib/python3.9/site-packages/ray/data/datasource/parquet_datasource.py:268: FutureWarning: 'ParquetDataset.pieces' attribute is deprecated as of pyarrow 5.0.0 and will be removed in a future version. Use the '.fragments' attribute instead\n",
      "\u001b[2m\u001b[36m(_get_read_tasks pid=65062)\u001b[0m   np.array_split(self._pq_ds.pieces, parallelism),\n"
     ]
    }
   ],
   "source": [
    "# Read .csv file to Ray Dataset.\n",
    "par_dataset = ray.data.read_parquet([\n",
    "    \"s3://anonymous@air-example-data/ursa-labs-taxi-data/downsampled_2009_01_data.parquet\"\n",
    "])"
   ]
  },
  {
   "attachments": {},
   "cell_type": "markdown",
   "metadata": {},
   "source": [
    "### Splitting Datasets"
   ]
  },
  {
   "cell_type": "code",
   "execution_count": null,
   "metadata": {},
   "outputs": [
    {
     "name": "stderr",
     "output_type": "stream",
     "text": [
      "                                                              \r"
     ]
    }
   ],
   "source": [
    "# Split dataset\n",
    "training_set, valid_set = par_dataset.train_test_split(test_size=0.3)\n",
    "# distribute the dataset on blocks\n",
    "training_set = training_set.repartition(num_blocks=5)\n",
    "valid_set = valid_set.repartition(num_blocks=5)"
   ]
  },
  {
   "attachments": {},
   "cell_type": "markdown",
   "metadata": {},
   "source": [
    "### Get Metadata"
   ]
  },
  {
   "cell_type": "code",
   "execution_count": 25,
   "metadata": {},
   "outputs": [
    {
     "name": "stderr",
     "output_type": "stream",
     "text": [
      "2023-05-19 12:15:25,612\tINFO streaming_executor.py:83 -- Executing DAG InputDataBuffer[Input] -> AllToAllOperator[Repartition]\n",
      "2023-05-19 12:15:25,613\tINFO streaming_executor.py:84 -- Execution config: ExecutionOptions(resource_limits=ExecutionResources(cpu=None, gpu=None, object_store_memory=None), locality_with_output=False, preserve_order=False, actor_locality_enabled=True, verbose_progress=False)\n",
      "\n",
      "\u001b[A\n",
      "Running: 0.0/8.0 CPU, 0.0/0.0 GPU, 0.0 MiB/512.0 MiB object_store_memory 0:   0%|          | 0/5 [00:00<?, ?it/s]\n",
      "                                                                                                                           \n",
      "\u001b[A"
     ]
    },
    {
     "data": {
      "text/plain": [
       "vendor_id: string\n",
       "pickup_at: timestamp[us]\n",
       "dropoff_at: timestamp[us]\n",
       "passenger_count: int8\n",
       "trip_distance: float\n",
       "pickup_longitude: float\n",
       "pickup_latitude: float\n",
       "rate_code_id: null\n",
       "store_and_fwd_flag: string\n",
       "dropoff_longitude: float\n",
       "dropoff_latitude: float\n",
       "payment_type: string\n",
       "fare_amount: float\n",
       "extra: float\n",
       "mta_tax: float\n",
       "tip_amount: float\n",
       "tolls_amount: float\n",
       "total_amount: float\n",
       "-- schema metadata --\n",
       "pandas: '{\"index_columns\": [{\"kind\": \"range\", \"name\": null, \"start\": 0, \"' + 2524"
      ]
     },
     "execution_count": 25,
     "metadata": {},
     "output_type": "execute_result"
    }
   ],
   "source": [
    "# Dataset| column : variable type\n",
    "training_set.schema()"
   ]
  },
  {
   "cell_type": "code",
   "execution_count": 27,
   "metadata": {},
   "outputs": [
    {
     "name": "stdout",
     "output_type": "stream",
     "text": [
      "Number of samples in training set: 1128493 , and validation set: 282124\n"
     ]
    }
   ],
   "source": [
    "# number of rows in the training set\n",
    "print('Number of samples in training set: {}'.format(training_set.count()), ', and validation set: {}'.format(valid_set.count()))"
   ]
  },
  {
   "cell_type": "code",
   "execution_count": 28,
   "metadata": {},
   "outputs": [
    {
     "name": "stdout",
     "output_type": "stream",
     "text": [
      "{'vendor_id': 'VTS', 'pickup_at': datetime.datetime(2009, 1, 21, 14, 58), 'dropoff_at': datetime.datetime(2009, 1, 21, 15, 3), 'passenger_count': 1, 'trip_distance': 0.5299999713897705, 'pickup_longitude': -73.99270629882812, 'pickup_latitude': 40.7529411315918, 'rate_code_id': None, 'store_and_fwd_flag': None, 'dropoff_longitude': -73.98814392089844, 'dropoff_latitude': 40.75956344604492, 'payment_type': 'CASH', 'fare_amount': 4.5, 'extra': 0.0, 'mta_tax': None, 'tip_amount': 0.0, 'tolls_amount': 0.0, 'total_amount': 4.5}\n",
      "{'vendor_id': 'VTS', 'pickup_at': datetime.datetime(2009, 1, 15, 18, 52), 'dropoff_at': datetime.datetime(2009, 1, 15, 18, 54), 'passenger_count': 1, 'trip_distance': 0.052000001072883606, 'pickup_longitude': -73.9472885131836, 'pickup_latitude': 40.775917053222656, 'rate_code_id': None, 'store_and_fwd_flag': None, 'dropoff_longitude': -73.9524917602539, 'dropoff_latitude': 40.77061080932617, 'payment_type': 'CASH', 'fare_amount': 3.700000047683716, 'extra': 1.0, 'mta_tax': None, 'tip_amount': 0.0, 'tolls_amount': 0.0, 'total_amount': 4.699999809265137}\n",
      "{'vendor_id': 'VTS', 'pickup_at': datetime.datetime(2009, 1, 24, 12, 20), 'dropoff_at': datetime.datetime(2009, 1, 24, 12, 27), 'passenger_count': 2, 'trip_distance': 1.4700000286102295, 'pickup_longitude': -73.98741149902344, 'pickup_latitude': 40.750648498535156, 'rate_code_id': None, 'store_and_fwd_flag': None, 'dropoff_longitude': -73.97168731689453, 'dropoff_latitude': 40.76368713378906, 'payment_type': 'CASH', 'fare_amount': 6.099999904632568, 'extra': 0.0, 'mta_tax': None, 'tip_amount': 0.0, 'tolls_amount': 0.0, 'total_amount': 6.099999904632568}\n",
      "{'vendor_id': 'VTS', 'pickup_at': datetime.datetime(2009, 1, 7, 7, 54), 'dropoff_at': datetime.datetime(2009, 1, 7, 7, 59), 'passenger_count': 1, 'trip_distance': 0.9200000166893005, 'pickup_longitude': -73.95862579345703, 'pickup_latitude': 40.77241134643555, 'rate_code_id': None, 'store_and_fwd_flag': None, 'dropoff_longitude': -73.94925689697266, 'dropoff_latitude': 40.78175354003906, 'payment_type': 'CASH', 'fare_amount': 4.900000095367432, 'extra': 0.0, 'mta_tax': None, 'tip_amount': 0.0, 'tolls_amount': 0.0, 'total_amount': 4.900000095367432}\n",
      "{'vendor_id': 'DDS', 'pickup_at': datetime.datetime(2009, 1, 21, 15, 7, 56), 'dropoff_at': datetime.datetime(2009, 1, 21, 15, 18, 18), 'passenger_count': 1, 'trip_distance': 0.8999999761581421, 'pickup_longitude': -73.95136260986328, 'pickup_latitude': 40.770164489746094, 'rate_code_id': None, 'store_and_fwd_flag': None, 'dropoff_longitude': -73.96206665039062, 'dropoff_latitude': 40.76869201660156, 'payment_type': 'CASH', 'fare_amount': 6.900000095367432, 'extra': 0.0, 'mta_tax': None, 'tip_amount': 0.0, 'tolls_amount': 0.0, 'total_amount': 6.900000095367432}\n",
      "{'vendor_id': 'VTS', 'pickup_at': datetime.datetime(2009, 1, 25, 15, 30), 'dropoff_at': datetime.datetime(2009, 1, 25, 15, 38), 'passenger_count': 2, 'trip_distance': 1.4600000381469727, 'pickup_longitude': -73.98090362548828, 'pickup_latitude': 40.782440185546875, 'rate_code_id': None, 'store_and_fwd_flag': None, 'dropoff_longitude': -73.97517395019531, 'dropoff_latitude': 40.76527404785156, 'payment_type': 'CASH', 'fare_amount': 6.900000095367432, 'extra': 0.0, 'mta_tax': None, 'tip_amount': 0.0, 'tolls_amount': 0.0, 'total_amount': 6.900000095367432}\n",
      "{'vendor_id': 'CMT', 'pickup_at': datetime.datetime(2009, 1, 25, 12, 49, 3), 'dropoff_at': datetime.datetime(2009, 1, 25, 12, 53, 22), 'passenger_count': 1, 'trip_distance': 0.4000000059604645, 'pickup_longitude': -73.97689056396484, 'pickup_latitude': 40.7589111328125, 'rate_code_id': None, 'store_and_fwd_flag': None, 'dropoff_longitude': -73.98262023925781, 'dropoff_latitude': 40.762428283691406, 'payment_type': 'Cash', 'fare_amount': 4.099999904632568, 'extra': 0.0, 'mta_tax': None, 'tip_amount': 0.0, 'tolls_amount': 0.0, 'total_amount': 4.099999904632568}\n",
      "{'vendor_id': 'VTS', 'pickup_at': datetime.datetime(2009, 1, 12, 19, 19), 'dropoff_at': datetime.datetime(2009, 1, 12, 19, 25), 'passenger_count': 1, 'trip_distance': 2.2200000286102295, 'pickup_longitude': -73.98551177978516, 'pickup_latitude': 40.75303268432617, 'rate_code_id': None, 'store_and_fwd_flag': None, 'dropoff_longitude': -73.96083068847656, 'dropoff_latitude': 40.77156448364258, 'payment_type': 'Credit', 'fare_amount': 8.100000381469727, 'extra': 1.0, 'mta_tax': None, 'tip_amount': 0.8999999761581421, 'tolls_amount': 0.0, 'total_amount': 10.0}\n",
      "{'vendor_id': 'VTS', 'pickup_at': datetime.datetime(2009, 1, 21, 9, 14), 'dropoff_at': datetime.datetime(2009, 1, 21, 9, 20), 'passenger_count': 1, 'trip_distance': 0.699999988079071, 'pickup_longitude': -73.9804458618164, 'pickup_latitude': 40.75390625, 'rate_code_id': None, 'store_and_fwd_flag': None, 'dropoff_longitude': -73.97911834716797, 'dropoff_latitude': 40.7593879699707, 'payment_type': 'CASH', 'fare_amount': 4.900000095367432, 'extra': 0.0, 'mta_tax': None, 'tip_amount': 0.0, 'tolls_amount': 0.0, 'total_amount': 4.900000095367432}\n",
      "{'vendor_id': 'DDS', 'pickup_at': datetime.datetime(2009, 1, 3, 8, 55, 52), 'dropoff_at': datetime.datetime(2009, 1, 3, 9, 10, 12), 'passenger_count': 1, 'trip_distance': 3.799999952316284, 'pickup_longitude': -73.98653411865234, 'pickup_latitude': 40.739994049072266, 'rate_code_id': None, 'store_and_fwd_flag': None, 'dropoff_longitude': -73.95252227783203, 'dropoff_latitude': 40.789520263671875, 'payment_type': 'CASH', 'fare_amount': 11.699999809265137, 'extra': 0.0, 'mta_tax': None, 'tip_amount': 0.0, 'tolls_amount': 0.0, 'total_amount': 11.699999809265137}\n"
     ]
    }
   ],
   "source": [
    "# show first 10 samples\n",
    "training_set.show(10)"
   ]
  },
  {
   "attachments": {},
   "cell_type": "markdown",
   "metadata": {},
   "source": [
    "### Preprocessing Operations"
   ]
  },
  {
   "cell_type": "code",
   "execution_count": 50,
   "metadata": {},
   "outputs": [
    {
     "name": "stderr",
     "output_type": "stream",
     "text": [
      "2023-05-19 12:53:54,294\tINFO streaming_executor.py:83 -- Executing DAG InputDataBuffer[Input] -> AllToAllOperator[Aggregate]\n",
      "2023-05-19 12:53:54,296\tINFO streaming_executor.py:84 -- Execution config: ExecutionOptions(resource_limits=ExecutionResources(cpu=None, gpu=None, object_store_memory=None), locality_with_output=False, preserve_order=False, actor_locality_enabled=True, verbose_progress=False)\n",
      "\n",
      "\u001b[A\n",
      "\u001b[A\n",
      "\n",
      "\u001b[A\u001b[A\n",
      "\n",
      "\u001b[A\u001b[A\n",
      "\n",
      "\n",
      "\u001b[A\u001b[A\u001b[A\n",
      "\n",
      "\n",
      "                                                                                                                 \n",
      "\u001b[A\n",
      "\n",
      "\u001b[A\u001b[A\n",
      "\n",
      "\n",
      "\u001b[A\u001b[A\u001b[A2023-05-19 12:53:54,441\tINFO streaming_executor.py:83 -- Executing DAG InputDataBuffer[Input] -> TaskPoolMapOperator[StandardScaler]\n",
      "2023-05-19 12:53:54,441\tINFO streaming_executor.py:84 -- Execution config: ExecutionOptions(resource_limits=ExecutionResources(cpu=None, gpu=None, object_store_memory=None), locality_with_output=False, preserve_order=False, actor_locality_enabled=True, verbose_progress=False)\n",
      "                                                                                                                            "
     ]
    },
    {
     "name": "stdout",
     "output_type": "stream",
     "text": [
      "{'vendor_id': 'VTS', 'pickup_at': Timestamp('2009-01-21 14:58:00'), 'dropoff_at': Timestamp('2009-01-21 15:03:00'), 'passenger_count': 1, 'trip_distance': -0.6873525977134705, 'pickup_longitude': -73.99270629882812, 'pickup_latitude': 40.7529411315918, 'rate_code_id': None, 'store_and_fwd_flag': None, 'dropoff_longitude': -73.98814392089844, 'dropoff_latitude': 40.75956344604492, 'payment_type': 'CASH', 'fare_amount': -0.6938865184783936, 'extra': 0.0, 'mta_tax': nan, 'tip_amount': -0.36115217208862305, 'tolls_amount': -0.15814156830310822, 'total_amount': -0.7043600082397461}\n",
      "{'vendor_id': 'VTS', 'pickup_at': Timestamp('2009-01-15 18:52:00'), 'dropoff_at': Timestamp('2009-01-15 18:54:00'), 'passenger_count': 1, 'trip_distance': -0.8492912650108337, 'pickup_longitude': -73.9472885131836, 'pickup_latitude': 40.775917053222656, 'rate_code_id': None, 'store_and_fwd_flag': None, 'dropoff_longitude': -73.9524917602539, 'dropoff_latitude': 40.77061080932617, 'payment_type': 'CASH', 'fare_amount': -0.8047886490821838, 'extra': 1.0, 'mta_tax': nan, 'tip_amount': -0.36115217208862305, 'tolls_amount': -0.15814156830310822, 'total_amount': -0.6799322366714478}\n",
      "{'vendor_id': 'VTS', 'pickup_at': Timestamp('2009-01-24 12:20:00'), 'dropoff_at': Timestamp('2009-01-24 12:27:00'), 'passenger_count': 2, 'trip_distance': -0.36889585852622986, 'pickup_longitude': -73.98741149902344, 'pickup_latitude': 40.750648498535156, 'rate_code_id': None, 'store_and_fwd_flag': None, 'dropoff_longitude': -73.97168731689453, 'dropoff_latitude': 40.76368713378906, 'payment_type': 'CASH', 'fare_amount': -0.4720821976661682, 'extra': 0.0, 'mta_tax': nan, 'tip_amount': -0.36115217208862305, 'tolls_amount': -0.15814156830310822, 'total_amount': -0.508937656879425}\n",
      "{'vendor_id': 'VTS', 'pickup_at': Timestamp('2009-01-07 07:54:00'), 'dropoff_at': Timestamp('2009-01-07 07:59:00'), 'passenger_count': 1, 'trip_distance': -0.5552269220352173, 'pickup_longitude': -73.95862579345703, 'pickup_latitude': 40.77241134643555, 'rate_code_id': None, 'store_and_fwd_flag': None, 'dropoff_longitude': -73.94925689697266, 'dropoff_latitude': 40.78175354003906, 'payment_type': 'CASH', 'fare_amount': -0.638435423374176, 'extra': 0.0, 'mta_tax': nan, 'tip_amount': -0.36115217208862305, 'tolls_amount': -0.15814156830310822, 'total_amount': -0.6555044054985046}\n",
      "{'vendor_id': 'DDS', 'pickup_at': Timestamp('2009-01-21 15:07:56'), 'dropoff_at': Timestamp('2009-01-21 15:18:18'), 'passenger_count': 1, 'trip_distance': -0.5620026588439941, 'pickup_longitude': -73.95136260986328, 'pickup_latitude': 40.770164489746094, 'rate_code_id': None, 'store_and_fwd_flag': None, 'dropoff_longitude': -73.96206665039062, 'dropoff_latitude': 40.76869201660156, 'payment_type': 'CASH', 'fare_amount': -0.36118000745773315, 'extra': 0.0, 'mta_tax': nan, 'tip_amount': -0.36115217208862305, 'tolls_amount': -0.15814156830310822, 'total_amount': -0.41122642159461975}\n",
      "{'vendor_id': 'VTS', 'pickup_at': Timestamp('2009-01-25 15:30:00'), 'dropoff_at': Timestamp('2009-01-25 15:38:00'), 'passenger_count': 2, 'trip_distance': -0.3722836971282959, 'pickup_longitude': -73.98090362548828, 'pickup_latitude': 40.782440185546875, 'rate_code_id': None, 'store_and_fwd_flag': None, 'dropoff_longitude': -73.97517395019531, 'dropoff_latitude': 40.76527404785156, 'payment_type': 'CASH', 'fare_amount': -0.36118000745773315, 'extra': 0.0, 'mta_tax': nan, 'tip_amount': -0.36115217208862305, 'tolls_amount': -0.15814156830310822, 'total_amount': -0.41122642159461975}\n",
      "{'vendor_id': 'CMT', 'pickup_at': Timestamp('2009-01-25 12:49:03'), 'dropoff_at': Timestamp('2009-01-25 12:53:22'), 'passenger_count': 1, 'trip_distance': -0.7313944697380066, 'pickup_longitude': -73.97689056396484, 'pickup_latitude': 40.7589111328125, 'rate_code_id': None, 'store_and_fwd_flag': None, 'dropoff_longitude': -73.98262023925781, 'dropoff_latitude': 40.762428283691406, 'payment_type': 'Cash', 'fare_amount': -0.7493375539779663, 'extra': 0.0, 'mta_tax': nan, 'tip_amount': -0.36115217208862305, 'tolls_amount': -0.15814156830310822, 'total_amount': -0.7532156109809875}\n",
      "{'vendor_id': 'VTS', 'pickup_at': Timestamp('2009-01-12 19:19:00'), 'dropoff_at': Timestamp('2009-01-12 19:25:00'), 'passenger_count': 1, 'trip_distance': -0.11480803787708282, 'pickup_longitude': -73.98551177978516, 'pickup_latitude': 40.75303268432617, 'rate_code_id': None, 'store_and_fwd_flag': None, 'dropoff_longitude': -73.96083068847656, 'dropoff_latitude': 40.77156448364258, 'payment_type': 'Credit', 'fare_amount': -0.19482673704624176, 'extra': 1.0, 'mta_tax': nan, 'tip_amount': 0.3397921025753021, 'tolls_amount': -0.15814156830310822, 'total_amount': -0.03259552642703056}\n",
      "{'vendor_id': 'VTS', 'pickup_at': Timestamp('2009-01-21 09:14:00'), 'dropoff_at': Timestamp('2009-01-21 09:20:00'), 'passenger_count': 1, 'trip_distance': -0.6297593712806702, 'pickup_longitude': -73.9804458618164, 'pickup_latitude': 40.75390625, 'rate_code_id': None, 'store_and_fwd_flag': None, 'dropoff_longitude': -73.97911834716797, 'dropoff_latitude': 40.7593879699707, 'payment_type': 'CASH', 'fare_amount': -0.638435423374176, 'extra': 0.0, 'mta_tax': nan, 'tip_amount': -0.36115217208862305, 'tolls_amount': -0.15814156830310822, 'total_amount': -0.6555044054985046}\n",
      "{'vendor_id': 'DDS', 'pickup_at': Timestamp('2009-01-03 08:55:52'), 'dropoff_at': Timestamp('2009-01-03 09:10:12'), 'passenger_count': 1, 'trip_distance': 0.42047029733657837, 'pickup_longitude': -73.98653411865234, 'pickup_latitude': 40.739994049072266, 'rate_code_id': None, 'store_and_fwd_flag': None, 'dropoff_longitude': -73.95252227783203, 'dropoff_latitude': 40.789520263671875, 'payment_type': 'CASH', 'fare_amount': 0.3042328953742981, 'extra': 0.0, 'mta_tax': nan, 'tip_amount': -0.36115217208862305, 'tolls_amount': -0.15814156830310822, 'total_amount': 0.17504075169563293}\n"
     ]
    },
    {
     "name": "stderr",
     "output_type": "stream",
     "text": [
      "\r"
     ]
    }
   ],
   "source": [
    "from ray.data.preprocessors.scaler import StandardScaler\n",
    "\n",
    "# define transformation including column titles\n",
    "preprocessor = StandardScaler(columns=([\"trip_distance\", 'fare_amount', 'tip_amount', 'tolls_amount','total_amount']))\n",
    "\n",
    "# fit and apply the transformation =: .fit() [e.g., to compute mean and std. ] and .transform() [apply the transform]\n",
    "transformed_data = preprocessor.fit_transform(training_set)\n",
    "\n",
    "transformed_data.show(10)"
   ]
  }
 ],
 "metadata": {
  "kernelspec": {
   "display_name": ".ray_venv",
   "language": "python",
   "name": "python3"
  },
  "language_info": {
   "codemirror_mode": {
    "name": "ipython",
    "version": 3
   },
   "file_extension": ".py",
   "mimetype": "text/x-python",
   "name": "python",
   "nbconvert_exporter": "python",
   "pygments_lexer": "ipython3",
   "version": "3.9.6"
  },
  "orig_nbformat": 4
 },
 "nbformat": 4,
 "nbformat_minor": 2
}
