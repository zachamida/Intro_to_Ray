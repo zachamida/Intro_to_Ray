{
 "cells": [
  {
   "attachments": {},
   "cell_type": "markdown",
   "metadata": {},
   "source": [
    "## Introduction to Ray\n",
    "### Libraries Map\n",
    "<img src=\"https://technical-training-assets.s3.us-west-2.amazonaws.com/Overview_of_Ray/map.png\" width=\"100%\" loading=\"lazy\">"
   ]
  },
  {
   "attachments": {},
   "cell_type": "markdown",
   "metadata": {},
   "source": [
    "### Entry Point\n",
    "Starting Ray cluster and Ray dashboard. You can define the number of cpu cores or number of gpu resources by using `ray.init(num_cpus=5)` or `ray.init(num_gpus=1)`"
   ]
  },
  {
   "cell_type": "code",
   "execution_count": null,
   "metadata": {},
   "outputs": [],
   "source": [
    "import ray\n",
    "\n",
    "# verify if a cluster already exist and terminate it\n",
    "if ray.is_initialized:\n",
    "    ray.shutdown()\n",
    "\n",
    "# start a new cluster\n",
    "ray.init()"
   ]
  },
  {
   "attachments": {},
   "cell_type": "markdown",
   "metadata": {},
   "source": [
    "### Tutorial Content\n",
    "\n",
    "1. [Read/Preprocess Data](ray_data.ipynb)\n",
    "   \n",
    "2. [Simple Parallel Framework](ray_train.ipynb)\n",
    "   \n",
    "3. [Simple RL Framework](ray_rl.ipynb)"
   ]
  }
 ],
 "metadata": {
  "language_info": {
   "name": "python"
  },
  "orig_nbformat": 4
 },
 "nbformat": 4,
 "nbformat_minor": 2
}
