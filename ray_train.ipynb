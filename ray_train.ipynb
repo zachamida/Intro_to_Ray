{
 "cells": [
  {
   "attachments": {},
   "cell_type": "markdown",
   "metadata": {},
   "source": [
    "### Ray AI Runtime (AIR)\n",
    "For this tutorial we will rely `ray['air']` which can be installed using `pip install -U \"ray[air]\"`"
   ]
  },
  {
   "attachments": {},
   "cell_type": "markdown",
   "metadata": {},
   "source": [
    "First step in the training tutorial is start a ray cluster. "
   ]
  },
  {
   "cell_type": "code",
   "execution_count": 11,
   "metadata": {},
   "outputs": [
    {
     "name": "stderr",
     "output_type": "stream",
     "text": [
      "2023-05-26 15:30:19,885\tINFO worker.py:1616 -- Started a local Ray instance. View the dashboard at \u001b[1m\u001b[32m127.0.0.1:8266 \u001b[39m\u001b[22m\n"
     ]
    },
    {
     "data": {
      "text/html": [
       "<div>\n",
       "    <div style=\"margin-left: 50px;display: flex;flex-direction: row;align-items: center\">\n",
       "        <h3 style=\"color: var(--jp-ui-font-color0)\">Ray</h3>\n",
       "        <svg version=\"1.1\" id=\"ray\" width=\"3em\" viewBox=\"0 0 144.5 144.6\" style=\"margin-left: 3em;margin-right: 3em\">\n",
       "            <g id=\"layer-1\">\n",
       "                <path fill=\"#00a2e9\" class=\"st0\" d=\"M97.3,77.2c-3.8-1.1-6.2,0.9-8.3,5.1c-3.5,6.8-9.9,9.9-17.4,9.6S58,88.1,54.8,81.2c-1.4-3-3-4-6.3-4.1\n",
       "                    c-5.6-0.1-9.9,0.1-13.1,6.4c-3.8,7.6-13.6,10.2-21.8,7.6C5.2,88.4-0.4,80.5,0,71.7c0.1-8.4,5.7-15.8,13.8-18.2\n",
       "                    c8.4-2.6,17.5,0.7,22.3,8c1.3,1.9,1.3,5.2,3.6,5.6c3.9,0.6,8,0.2,12,0.2c1.8,0,1.9-1.6,2.4-2.8c3.5-7.8,9.7-11.8,18-11.9\n",
       "                    c8.2-0.1,14.4,3.9,17.8,11.4c1.3,2.8,2.9,3.6,5.7,3.3c1-0.1,2,0.1,3,0c2.8-0.5,6.4,1.7,8.1-2.7s-2.3-5.5-4.1-7.5\n",
       "                    c-5.1-5.7-10.9-10.8-16.1-16.3C84,38,81.9,37.1,78,38.3C66.7,42,56.2,35.7,53,24.1C50.3,14,57.3,2.8,67.7,0.5\n",
       "                    C78.4-2,89,4.7,91.5,15.3c0.1,0.3,0.1,0.5,0.2,0.8c0.7,3.4,0.7,6.9-0.8,9.8c-1.7,3.2-0.8,5,1.5,7.2c6.7,6.5,13.3,13,19.8,19.7\n",
       "                    c1.8,1.8,3,2.1,5.5,1.2c9.1-3.4,17.9-0.6,23.4,7c4.8,6.9,4.6,16.1-0.4,22.9c-5.4,7.2-14.2,9.9-23.1,6.5c-2.3-0.9-3.5-0.6-5.1,1.1\n",
       "                    c-6.7,6.9-13.6,13.7-20.5,20.4c-1.8,1.8-2.5,3.2-1.4,5.9c3.5,8.7,0.3,18.6-7.7,23.6c-7.9,5-18.2,3.8-24.8-2.9\n",
       "                    c-6.4-6.4-7.4-16.2-2.5-24.3c4.9-7.8,14.5-11,23.1-7.8c3,1.1,4.7,0.5,6.9-1.7C91.7,98.4,98,92.3,104.2,86c1.6-1.6,4.1-2.7,2.6-6.2\n",
       "                    c-1.4-3.3-3.8-2.5-6.2-2.6C99.8,77.2,98.9,77.2,97.3,77.2z M72.1,29.7c5.5,0.1,9.9-4.3,10-9.8c0-0.1,0-0.2,0-0.3\n",
       "                    C81.8,14,77,9.8,71.5,10.2c-5,0.3-9,4.2-9.3,9.2c-0.2,5.5,4,10.1,9.5,10.3C71.8,29.7,72,29.7,72.1,29.7z M72.3,62.3\n",
       "                    c-5.4-0.1-9.9,4.2-10.1,9.7c0,0.2,0,0.3,0,0.5c0.2,5.4,4.5,9.7,9.9,10c5.1,0.1,9.9-4.7,10.1-9.8c0.2-5.5-4-10-9.5-10.3\n",
       "                    C72.6,62.3,72.4,62.3,72.3,62.3z M115,72.5c0.1,5.4,4.5,9.7,9.8,9.9c5.6-0.2,10-4.8,10-10.4c-0.2-5.4-4.6-9.7-10-9.7\n",
       "                    c-5.3-0.1-9.8,4.2-9.9,9.5C115,72.1,115,72.3,115,72.5z M19.5,62.3c-5.4,0.1-9.8,4.4-10,9.8c-0.1,5.1,5.2,10.4,10.2,10.3\n",
       "                    c5.6-0.2,10-4.9,9.8-10.5c-0.1-5.4-4.5-9.7-9.9-9.6C19.6,62.3,19.5,62.3,19.5,62.3z M71.8,134.6c5.9,0.2,10.3-3.9,10.4-9.6\n",
       "                    c0.5-5.5-3.6-10.4-9.1-10.8c-5.5-0.5-10.4,3.6-10.8,9.1c0,0.5,0,0.9,0,1.4c-0.2,5.3,4,9.8,9.3,10\n",
       "                    C71.6,134.6,71.7,134.6,71.8,134.6z\"/>\n",
       "            </g>\n",
       "        </svg>\n",
       "        <table>\n",
       "            <tr>\n",
       "                <td style=\"text-align: left\"><b>Python version:</b></td>\n",
       "                <td style=\"text-align: left\"><b>3.9.6</b></td>\n",
       "            </tr>\n",
       "            <tr>\n",
       "                <td style=\"text-align: left\"><b>Ray version:</b></td>\n",
       "                <td style=\"text-align: left\"><b> 2.4.0</b></td>\n",
       "            </tr>\n",
       "            <tr>\n",
       "    <td style=\"text-align: left\"><b>Dashboard:</b></td>\n",
       "    <td style=\"text-align: left\"><b><a href=\"http://127.0.0.1:8266\" target=\"_blank\">http://127.0.0.1:8266</a></b></td>\n",
       "</tr>\n",
       "\n",
       "        </table>\n",
       "    </div>\n",
       "</div>\n"
      ],
      "text/plain": [
       "RayContext(dashboard_url='127.0.0.1:8266', python_version='3.9.6', ray_version='2.4.0', ray_commit='4479f66d4db967d3c9dd0af2572061276ba926ba', address_info={'node_ip_address': '127.0.0.1', 'raylet_ip_address': '127.0.0.1', 'redis_address': None, 'object_store_address': '/tmp/ray/session_2023-05-26_15-30-18_066173_57265/sockets/plasma_store', 'raylet_socket_name': '/tmp/ray/session_2023-05-26_15-30-18_066173_57265/sockets/raylet', 'webui_url': '127.0.0.1:8266', 'session_dir': '/tmp/ray/session_2023-05-26_15-30-18_066173_57265', 'metrics_export_port': 62341, 'gcs_address': '127.0.0.1:63898', 'address': '127.0.0.1:63898', 'dashboard_agent_listen_port': 52365, 'node_id': 'd51ed9ad26a6bdbb5c00eeabf9dd30e1baa9897af22a6291af70d657'})"
      ]
     },
     "execution_count": 11,
     "metadata": {},
     "output_type": "execute_result"
    }
   ],
   "source": [
    "import ray\n",
    "# verify if a cluster already exist and terminate it\n",
    "if ray.is_initialized:\n",
    "    ray.shutdown()\n",
    "# start a new cluster\n",
    "ray.init()"
   ]
  },
  {
   "cell_type": "code",
   "execution_count": 2,
   "metadata": {},
   "outputs": [],
   "source": [
    "import time\n",
    "from sklearn.model_selection import train_test_split\n",
    "from sklearn.ensemble import RandomForestRegressor"
   ]
  },
  {
   "attachments": {},
   "cell_type": "markdown",
   "metadata": {},
   "source": [
    "### California Housing dataset:\n",
    "https://scikit-learn.org/stable/modules/generated/sklearn.datasets.fetch_california_housing\n",
    "\n",
    "--------------------------\n",
    "\n",
    "**Data Set Characteristics:**\n",
    "\n",
    "    :Number of Instances: 20640\n",
    "\n",
    "    :Number of Attributes: 8 numeric, predictive attributes and the target\n",
    "\n",
    "    :Attribute Information:\n",
    "        - MedInc        median income in block group\n",
    "        - HouseAge      median house age in block group\n",
    "        - AveRooms      average number of rooms per household\n",
    "        - AveBedrms     average number of bedrooms per household\n",
    "        - Population    block group population\n",
    "        - AveOccup      average number of household members\n",
    "        - Latitude      block group latitude\n",
    "        - Longitude     block group longitude\n",
    "\n",
    "    :Missing Attribute Values: None\n",
    "\n",
    "    The target variable is the median house value for California districts,\n",
    "    expressed in hundreds of thousands of dollars unit ($100,000)."
   ]
  },
  {
   "cell_type": "code",
   "execution_count": 3,
   "metadata": {},
   "outputs": [],
   "source": [
    "from sklearn.datasets import fetch_california_housing\n",
    "# return covariates and target variables\n",
    "X_att, Y_target = fetch_california_housing(return_X_y=True, as_frame=True)\n",
    "# split the dataset\n",
    "X_train, X_test, Y_train, Y_test = train_test_split(X_att,Y_target, test_size=0.3, random_state=64)"
   ]
  },
  {
   "attachments": {},
   "cell_type": "markdown",
   "metadata": {},
   "source": [
    "Define a sequential training function for comparison purposes"
   ]
  },
  {
   "cell_type": "code",
   "execution_count": 4,
   "metadata": {},
   "outputs": [],
   "source": [
    "def train_model_seq(train_att, test_att, train_target, test_target, n_estimators):\n",
    "    start_time = time.time()\n",
    "    en_model = RandomForestRegressor(n_estimators=n_estimators, random_state=64)\n",
    "    en_model.fit(train_att, train_target)    \n",
    "    end_time = time.time()\n",
    "    delta_time = end_time - start_time\n",
    "    print( 'Training time: {} seconds'.format(delta_time))\n",
    "\n",
    "    return delta_time"
   ]
  },
  {
   "cell_type": "code",
   "execution_count": 5,
   "metadata": {},
   "outputs": [
    {
     "name": "stdout",
     "output_type": "stream",
     "text": [
      "Training time: 0.07712388038635254 seconds\n",
      "Training time: 0.6658492088317871 seconds\n",
      "Training time: 1.409588098526001 seconds\n",
      "Training time: 2.013491153717041 seconds\n",
      "Training time: 2.5449321269989014 seconds\n",
      "Training time: 3.1334309577941895 seconds\n",
      "Training time: 3.750880002975464 seconds\n",
      "Training time: 4.3573079109191895 seconds\n",
      "Training time: 5.020026922225952 seconds\n",
      "Training time: 5.497156858444214 seconds\n",
      "Training time: 6.2171571254730225 seconds\n",
      "Training time: 6.885180234909058 seconds\n",
      "Training time: 7.553805112838745 seconds\n",
      "Training time: 8.064624786376953 seconds\n",
      "Training time: 8.695956945419312 seconds\n",
      "Training time: 9.073594808578491 seconds\n",
      "Training time: 10.076745986938477 seconds\n",
      "Training time: 10.38935923576355 seconds\n",
      "Training time: 11.079370021820068 seconds\n",
      "Training time: 11.526580095291138 seconds\n",
      "Training time: 12.132888793945312 seconds\n",
      "CPU times: user 2min 9s, sys: 3.29 s, total: 2min 13s\n",
      "Wall time: 2min 10s\n"
     ]
    }
   ],
   "source": [
    "%%time\n",
    "for n in range(0, 201, 10):\n",
    "    delta_time = train_model_seq(X_train, X_test, Y_train, Y_test, 1+n)"
   ]
  },
  {
   "attachments": {},
   "cell_type": "markdown",
   "metadata": {},
   "source": [
    "Define a function on the cluster by using the function decorator `@ray.remote`"
   ]
  },
  {
   "cell_type": "code",
   "execution_count": 14,
   "metadata": {},
   "outputs": [],
   "source": [
    "@ray.remote\n",
    "def train_model_par(train_att,test_att,train_target,test_target,n_estimators):\n",
    "    start_time = time.time()\n",
    "    en_model = RandomForestRegressor(n_estimators=n_estimators, random_state=64)\n",
    "    en_model.fit(train_att, train_target)    \n",
    "    end_time = time.time()\n",
    "    delta_time = end_time - start_time\n",
    "    print( 'Training time: {} seconds'.format(delta_time))\n",
    "\n",
    "    return delta_time"
   ]
  },
  {
   "attachments": {},
   "cell_type": "markdown",
   "metadata": {},
   "source": [
    "Put the variables on the cluster using `ray.put()`"
   ]
  },
  {
   "cell_type": "code",
   "execution_count": 13,
   "metadata": {},
   "outputs": [],
   "source": [
    "X_train_ray = ray.put(X_train)\n",
    "X_test_ray = ray.put(X_test)\n",
    "Y_train_ray = ray.put(Y_train)\n",
    "Y_test_ray = ray.put(Y_test)"
   ]
  },
  {
   "attachments": {},
   "cell_type": "markdown",
   "metadata": {},
   "source": [
    "The access point for the function becomes `my_function.remote()`, retrieving the function output can be done using `ray.get()`"
   ]
  },
  {
   "cell_type": "code",
   "execution_count": 15,
   "metadata": {},
   "outputs": [
    {
     "name": "stdout",
     "output_type": "stream",
     "text": [
      "\u001b[2m\u001b[36m(train_model_par pid=94671)\u001b[0m Training time: 0.08847880363464355 seconds\n",
      "\u001b[2m\u001b[36m(train_model_par pid=94668)\u001b[0m Training time: 5.974763870239258 seconds\u001b[32m [repeated 6x across cluster]\u001b[0m\n",
      "\u001b[2m\u001b[36m(train_model_par pid=94666)\u001b[0m Training time: 10.023831129074097 seconds\u001b[32m [repeated 4x across cluster]\u001b[0m\n",
      "\u001b[2m\u001b[36m(train_model_par pid=94665)\u001b[0m Training time: 12.563910007476807 seconds\u001b[32m [repeated 3x across cluster]\u001b[0m\n",
      "\u001b[2m\u001b[36m(train_model_par pid=94671)\u001b[0m Training time: 13.83492398262024 seconds\u001b[32m [repeated 3x across cluster]\u001b[0m\n",
      "\u001b[2m\u001b[36m(train_model_par pid=94664)\u001b[0m Training time: 14.029475927352905 seconds\u001b[32m [repeated 3x across cluster]\u001b[0m\n",
      "CPU times: user 328 ms, sys: 826 ms, total: 1.15 s\n",
      "Wall time: 31.4 s\n"
     ]
    },
    {
     "data": {
      "text/plain": [
       "[0.08847880363464355,\n",
       " 1.048469066619873,\n",
       " 1.97599196434021,\n",
       " 3.1143927574157715,\n",
       " 4.0829551219940186,\n",
       " 4.971190929412842,\n",
       " 5.974763870239258,\n",
       " 7.563481092453003,\n",
       " 8.508296966552734,\n",
       " 9.423293113708496,\n",
       " 10.023831129074097,\n",
       " 10.981528997421265,\n",
       " 11.80382490158081,\n",
       " 12.563910007476807,\n",
       " 13.429285049438477,\n",
       " 13.544419050216675,\n",
       " 13.83492398262024,\n",
       " 14.053867101669312,\n",
       " 14.233737230300903,\n",
       " 14.029475927352905,\n",
       " 14.16966986656189]"
      ]
     },
     "execution_count": 15,
     "metadata": {},
     "output_type": "execute_result"
    }
   ],
   "source": [
    "%%time\n",
    "timer = []\n",
    "for n in range(0, 201, 10):\n",
    "    delta_time = train_model_par.remote(X_train_ray, X_test_ray, Y_train_ray, Y_test_ray, 1+n)\n",
    "    timer.append(delta_time)\n",
    "ray.get(timer)"
   ]
  },
  {
   "attachments": {},
   "cell_type": "markdown",
   "metadata": {},
   "source": [
    "After finishing the calculation, you should shutdown the cluster usign,"
   ]
  },
  {
   "cell_type": "code",
   "execution_count": 17,
   "metadata": {},
   "outputs": [],
   "source": [
    "ray.shutdown()"
   ]
  }
 ],
 "metadata": {
  "kernelspec": {
   "display_name": ".ray_venv",
   "language": "python",
   "name": "python3"
  },
  "language_info": {
   "codemirror_mode": {
    "name": "ipython",
    "version": 3
   },
   "file_extension": ".py",
   "mimetype": "text/x-python",
   "name": "python",
   "nbconvert_exporter": "python",
   "pygments_lexer": "ipython3",
   "version": "3.9.6"
  },
  "orig_nbformat": 4
 },
 "nbformat": 4,
 "nbformat_minor": 2
}
