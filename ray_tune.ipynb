{
 "cells": [
  {
   "cell_type": "code",
   "execution_count": 4,
   "metadata": {},
   "outputs": [],
   "source": [
    "# Original Code here:\n",
    "# https://github.com/pytorch/examples/blob/master/mnist/main.py\n",
    "from ray import tune"
   ]
  },
  {
   "cell_type": "code",
   "execution_count": 27,
   "metadata": {},
   "outputs": [],
   "source": [
    "# define an objective function\n",
    "def objective(config):\n",
    "    score = config[\"a\"] ** 2 + config[\"b\"]\n",
    "    return {\"function_score\": score}"
   ]
  },
  {
   "cell_type": "code",
   "execution_count": 21,
   "metadata": {},
   "outputs": [],
   "source": [
    "# define search space parameters\n",
    "config = {\n",
    "    # Do a grid search over these values. Every value will be sampled\n",
    "    # ``num_samples`` times (``num_samples`` is the parameter you pass to ``tune.TuneConfig``,\n",
    "    # which is taken in by ``Tuner``)\n",
    "    \"a\": tune.grid_search([0.001, 0.01, 0.1, 1.0]),\n",
    "    \n",
    "    # Sample an option uniformly from the specified choices\n",
    "    \"b\": tune.choice([1, 2, 3]),\n",
    "}"
   ]
  },
  {
   "cell_type": "code",
   "execution_count": null,
   "metadata": {},
   "outputs": [],
   "source": [
    "# config = {\n",
    "#     # Sample a float uniformly between -5.0 and -1.0\n",
    "#     \"uniform\": tune.uniform(-5, -1),\n",
    "\n",
    "#     # Sample a float uniformly between 3.2 and 5.4,\n",
    "#     # rounding to multiples of 0.2\n",
    "#     \"quniform\": tune.quniform(3.2, 5.4, 0.2),\n",
    "\n",
    "#     # Sample a float uniformly between 0.0001 and 0.01, while\n",
    "#     # sampling in log space\n",
    "#     \"loguniform\": tune.loguniform(1e-4, 1e-2),\n",
    "\n",
    "#     # Sample a float uniformly between 0.0001 and 0.1, while\n",
    "#     # sampling in log space and rounding to multiples of 0.00005\n",
    "#     \"qloguniform\": tune.qloguniform(1e-4, 1e-1, 5e-5),\n",
    "\n",
    "#     # Sample a random float from a normal distribution with\n",
    "#     # mean=10 and sd=2\n",
    "#     \"randn\": tune.randn(10, 2),\n",
    "\n",
    "#     # Sample a random float from a normal distribution with\n",
    "#     # mean=10 and sd=2, rounding to multiples of 0.2\n",
    "#     \"qrandn\": tune.qrandn(10, 2, 0.2),\n",
    "\n",
    "#     # Sample a integer uniformly between -9 (inclusive) and 15 (exclusive)\n",
    "#     \"randint\": tune.randint(-9, 15),\n",
    "\n",
    "#     # Sample a random uniformly between -21 (inclusive) and 12 (inclusive (!))\n",
    "#     # rounding to multiples of 3 (includes 12)\n",
    "#     # if q is 1, then randint is called instead with the upper bound exclusive\n",
    "#     \"qrandint\": tune.qrandint(-21, 12, 3),\n",
    "\n",
    "#     # Sample a integer uniformly between 1 (inclusive) and 10 (exclusive),\n",
    "#     # while sampling in log space\n",
    "#     \"lograndint\": tune.lograndint(1, 10),\n",
    "\n",
    "#     # Sample a integer uniformly between 1 (inclusive) and 10 (inclusive (!)),\n",
    "#     # while sampling in log space and rounding to multiples of 2\n",
    "#     # if q is 1, then lograndint is called instead with the upper bound exclusive\n",
    "#     \"qlograndint\": tune.qlograndint(1, 10, 2),\n",
    "\n",
    "#     # Sample from a random function, in this case one that\n",
    "#     # depends on another value from the search space\n",
    "#     \"func\": tune.sample_from(lambda spec: spec.config.uniform * 0.01),\n",
    "# }"
   ]
  },
  {
   "cell_type": "code",
   "execution_count": 30,
   "metadata": {},
   "outputs": [
    {
     "name": "stderr",
     "output_type": "stream",
     "text": [
      "2023-05-25 08:56:03,563\tINFO worker.py:1616 -- Started a local Ray instance. View the dashboard at \u001b[1m\u001b[32m127.0.0.1:8265 \u001b[39m\u001b[22m\n"
     ]
    },
    {
     "data": {
      "text/html": [
       "<div class=\"tuneStatus\">\n",
       "  <div style=\"display: flex;flex-direction: row\">\n",
       "    <div style=\"display: flex;flex-direction: column;\">\n",
       "      <h3>Tune Status</h3>\n",
       "      <table>\n",
       "<tbody>\n",
       "<tr><td>Current time:</td><td>2023-05-25 08:56:06</td></tr>\n",
       "<tr><td>Running for: </td><td>00:00:02.63        </td></tr>\n",
       "<tr><td>Memory:      </td><td>11.9/16.0 GiB      </td></tr>\n",
       "</tbody>\n",
       "</table>\n",
       "    </div>\n",
       "    <div class=\"vDivider\"></div>\n",
       "    <div class=\"systemInfo\">\n",
       "      <h3>System Info</h3>\n",
       "      Using FIFO scheduling algorithm.<br>Logical resource usage: 0/8 CPUs, 0/0 GPUs\n",
       "    </div>\n",
       "    \n",
       "  </div>\n",
       "  <div class=\"hDivider\"></div>\n",
       "  <div class=\"trialStatus\">\n",
       "    <h3>Trial Status</h3>\n",
       "    <table>\n",
       "<thead>\n",
       "<tr><th>Trial name           </th><th>status    </th><th>loc            </th><th style=\"text-align: right;\">    a</th><th style=\"text-align: right;\">  b</th><th style=\"text-align: right;\">  iter</th><th style=\"text-align: right;\">  total time (s)</th><th style=\"text-align: right;\">  function_score</th></tr>\n",
       "</thead>\n",
       "<tbody>\n",
       "<tr><td>objective_81fc4_00000</td><td>TERMINATED</td><td>127.0.0.1:59751</td><td style=\"text-align: right;\">0.001</td><td style=\"text-align: right;\">  3</td><td style=\"text-align: right;\">     1</td><td style=\"text-align: right;\">     7.60555e-05</td><td style=\"text-align: right;\">          3     </td></tr>\n",
       "<tr><td>objective_81fc4_00001</td><td>TERMINATED</td><td>127.0.0.1:59753</td><td style=\"text-align: right;\">0.01 </td><td style=\"text-align: right;\">  2</td><td style=\"text-align: right;\">     1</td><td style=\"text-align: right;\">     6.60419e-05</td><td style=\"text-align: right;\">          2.0001</td></tr>\n",
       "<tr><td>objective_81fc4_00002</td><td>TERMINATED</td><td>127.0.0.1:59754</td><td style=\"text-align: right;\">0.1  </td><td style=\"text-align: right;\">  1</td><td style=\"text-align: right;\">     1</td><td style=\"text-align: right;\">     8.39233e-05</td><td style=\"text-align: right;\">          1.01  </td></tr>\n",
       "<tr><td>objective_81fc4_00003</td><td>TERMINATED</td><td>127.0.0.1:59755</td><td style=\"text-align: right;\">1    </td><td style=\"text-align: right;\">  2</td><td style=\"text-align: right;\">     1</td><td style=\"text-align: right;\">     0.000190973</td><td style=\"text-align: right;\">          3     </td></tr>\n",
       "</tbody>\n",
       "</table>\n",
       "  </div>\n",
       "</div>\n",
       "<style>\n",
       ".tuneStatus {\n",
       "  color: var(--jp-ui-font-color1);\n",
       "}\n",
       ".tuneStatus .systemInfo {\n",
       "  display: flex;\n",
       "  flex-direction: column;\n",
       "}\n",
       ".tuneStatus td {\n",
       "  white-space: nowrap;\n",
       "}\n",
       ".tuneStatus .trialStatus {\n",
       "  display: flex;\n",
       "  flex-direction: column;\n",
       "}\n",
       ".tuneStatus h3 {\n",
       "  font-weight: bold;\n",
       "}\n",
       ".tuneStatus .hDivider {\n",
       "  border-bottom-width: var(--jp-border-width);\n",
       "  border-bottom-color: var(--jp-border-color0);\n",
       "  border-bottom-style: solid;\n",
       "}\n",
       ".tuneStatus .vDivider {\n",
       "  border-left-width: var(--jp-border-width);\n",
       "  border-left-color: var(--jp-border-color0);\n",
       "  border-left-style: solid;\n",
       "  margin: 0.5em 1em 0.5em 1em;\n",
       "}\n",
       "</style>\n"
      ],
      "text/plain": [
       "<IPython.core.display.HTML object>"
      ]
     },
     "metadata": {},
     "output_type": "display_data"
    },
    {
     "name": "stderr",
     "output_type": "stream",
     "text": [
      "2023-05-25 08:56:06,928\tINFO tune.py:945 -- Total run time: 2.64 seconds (2.63 seconds for the tuning loop).\n"
     ]
    },
    {
     "name": "stdout",
     "output_type": "stream",
     "text": [
      "Best config is: {'a': 0.001, 'b': 3}\n"
     ]
    }
   ],
   "source": [
    "if ray.is_initialized:\n",
    "    ray.shutdown()\n",
    "ray.init()\n",
    "\n",
    "tuner = tune.Tuner(objective, param_space=config)\n",
    "results = tuner.fit()\n",
    "\n",
    "print(\"Best config is:\", results.get_best_result(metric=\"function_score\", mode=\"max\").config)\n"
   ]
  },
  {
   "cell_type": "code",
   "execution_count": null,
   "metadata": {},
   "outputs": [],
   "source": [
    "ray.shutdown()"
   ]
  }
 ],
 "metadata": {
  "kernelspec": {
   "display_name": ".ray_venv",
   "language": "python",
   "name": "python3"
  },
  "language_info": {
   "codemirror_mode": {
    "name": "ipython",
    "version": 3
   },
   "file_extension": ".py",
   "mimetype": "text/x-python",
   "name": "python",
   "nbconvert_exporter": "python",
   "pygments_lexer": "ipython3",
   "version": "3.9.6"
  },
  "orig_nbformat": 4
 },
 "nbformat": 4,
 "nbformat_minor": 2
}
